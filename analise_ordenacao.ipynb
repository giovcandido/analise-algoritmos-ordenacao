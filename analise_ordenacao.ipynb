{
 "cells": [
  {
   "cell_type": "markdown",
   "id": "9bc3cace-c7bb-419f-98b8-5b3260552ac9",
   "metadata": {},
   "source": [
    "# Análise de Algoritmos de Ordenação"
   ]
  },
  {
   "cell_type": "markdown",
   "id": "ada085fa-d11b-437e-824d-57e3a8e474ce",
   "metadata": {},
   "source": [
    "Giovani Candido - RA: 191021601 <br>\n",
    "Luis Henrique Morelli - RA: 181027097\n",
    "\n",
    "---"
   ]
  },
  {
   "cell_type": "markdown",
   "id": "ad3d316a-1a66-4b18-8dae-77b674867954",
   "metadata": {},
   "source": [
    "<br>\n",
    "\n",
    "## Importação de módulos"
   ]
  },
  {
   "cell_type": "markdown",
   "id": "4a1a5be4-1ffb-487a-9d43-ecd768d72772",
   "metadata": {},
   "source": [
    "Vamos importar alguns módulos necessários. "
   ]
  },
  {
   "cell_type": "code",
   "execution_count": null,
   "id": "b2365096-d141-4c61-88d7-7d22b57ad40f",
   "metadata": {},
   "outputs": [],
   "source": [
    "import random\n",
    "import heapq"
   ]
  },
  {
   "cell_type": "markdown",
   "id": "ada8f03d-f496-46a2-b0ba-0b9db80332eb",
   "metadata": {},
   "source": [
    "<br>\n",
    "\n",
    "## Funções Utilitárias"
   ]
  },
  {
   "cell_type": "markdown",
   "id": "f57affbb-08c5-4093-834c-4ca8957580d4",
   "metadata": {},
   "source": [
    "Precisaremos de uma função para gerar arrays para nossos experimentos.\n",
    "\n",
    "A função generate_array é a responsável por criar um array com valores de 0 a upper_bound-1. Ademais, a flag sorted_arr indica se o array deve ser ordenado ou ter uma distribuição aleatória de valores."
   ]
  },
  {
   "cell_type": "code",
   "execution_count": null,
   "id": "2575dd41-ac47-4cc8-bbef-27eebd748c0b",
   "metadata": {},
   "outputs": [],
   "source": [
    "def generate_array(sorted_arr, upper_bound):\n",
    "    arr = list(range(0, upper_bound))\n",
    "    \n",
    "    if not sorted_arr:\n",
    "        random.shuffle(arr)\n",
    "        \n",
    "    return arr"
   ]
  },
  {
   "cell_type": "markdown",
   "id": "f8f1b69a-87f1-4e9f-b69a-e393ed74a820",
   "metadata": {},
   "source": [
    "Também vamos precisar de uma função para transformar os nossos arrays em strings."
   ]
  },
  {
   "cell_type": "code",
   "execution_count": null,
   "id": "0f499f95-9261-428b-a7f5-65371eea8708",
   "metadata": {},
   "outputs": [],
   "source": [
    "def truncate_array_str(size, arr):\n",
    "    if size <= 10:\n",
    "        return str(arr)\n",
    "    \n",
    "    first_slice = [str(x) for x in arr[0:5]]\n",
    "    last_slice = [str(x) for x in arr[-5:]]\n",
    "    \n",
    "    new_arr = first_slice + ['...'] + last_slice\n",
    "    \n",
    "    new_arr_str = '['\n",
    "    \n",
    "    for c in new_arr[:-1]:\n",
    "        new_arr_str += c + ', '\n",
    "\n",
    "    new_arr_str += new_arr[-1] + ']'\n",
    "    \n",
    "    return new_arr_str"
   ]
  },
  {
   "cell_type": "markdown",
   "id": "ae63b660-53f8-4cab-b5e8-ac70793a0152",
   "metadata": {},
   "source": [
    "<br>\n",
    "\n",
    "## Implementação dos Algoritmos"
   ]
  },
  {
   "cell_type": "markdown",
   "id": "4f17d15f-2c1e-426b-bcbe-0ab8fec894ee",
   "metadata": {},
   "source": [
    "Aqui, implementamos todos os algoritmos de ordenação que iremos utilizar nos experimentos."
   ]
  },
  {
   "cell_type": "markdown",
   "id": "6b755e4a-8133-40af-b006-3495b912442a",
   "metadata": {},
   "source": [
    "### Bubble sort"
   ]
  },
  {
   "cell_type": "code",
   "execution_count": null,
   "id": "8d709adf-2ca1-4795-84b3-a6a8e1324dfc",
   "metadata": {},
   "outputs": [],
   "source": [
    "def bubble_sort(size, arr): \n",
    "    swapped = True\n",
    "    i = 0\n",
    "\n",
    "    while i < size-1 and swapped:\n",
    "        swapped = False\n",
    "        j = 0\n",
    "    \n",
    "        while j < size-1-i:\n",
    "            if arr[j] > arr[j+1]:\n",
    "                aux = arr[j]\n",
    "                arr[j] = arr[j+1]\n",
    "                arr[j+1] = aux\n",
    "                \n",
    "                swapped = True\n",
    "            \n",
    "            j += 1\n",
    "        \n",
    "        i += 1"
   ]
  },
  {
   "cell_type": "markdown",
   "id": "8d7fed52-7286-45f0-9bfa-63f4ad2b6c35",
   "metadata": {},
   "source": [
    "<br> \n",
    "\n",
    "### Insertion sort"
   ]
  },
  {
   "cell_type": "code",
   "execution_count": null,
   "id": "52a40f6b-a31f-4047-90c3-453f5fe8dc76",
   "metadata": {},
   "outputs": [],
   "source": [
    "def insertion_sort(size, arr):\n",
    "    for i in range(1, size):\n",
    "        aux = arr[i]\n",
    "        j = i - 1\n",
    "\n",
    "        while j >= 0 and aux < arr[j]:\n",
    "            arr[j + 1] = arr[j]\n",
    "\n",
    "            j -= 1\n",
    "            \n",
    "        arr[j + 1] = aux"
   ]
  },
  {
   "cell_type": "markdown",
   "id": "f5ae85da-8637-41ba-ba51-51f0eabc4765",
   "metadata": {},
   "source": [
    "<br>\n",
    "\n",
    "### Merge sort"
   ]
  },
  {
   "cell_type": "code",
   "execution_count": null,
   "id": "d711c1e8-f02b-4fa9-900f-93e97eec423b",
   "metadata": {},
   "outputs": [],
   "source": [
    "def merge_sort(begin, end, arr):\n",
    "    if begin == end:\n",
    "        return\n",
    "    \n",
    "    middle = int((begin+end)/2)\n",
    "    \n",
    "    merge_sort(begin, middle, arr)\n",
    "    merge_sort(middle+1, end, arr)\n",
    "    \n",
    "    aux = []\n",
    "    \n",
    "    i = begin\n",
    "    j = middle+1\n",
    "            \n",
    "    while i < middle+1 or j < end+1:\n",
    "        if i == middle+1:\n",
    "            aux.append(arr[j])\n",
    "            j += 1\n",
    "        elif j == end+1:\n",
    "            aux.append(arr[i])\n",
    "            i += 1\n",
    "        elif arr[i] < arr[j]:\n",
    "            aux.append(arr[i])\n",
    "            i += 1\n",
    "        else:\n",
    "            aux.append(arr[j])\n",
    "            j += 1\n",
    "    \n",
    "    for i in range(begin, end+1):\n",
    "        arr[i] = aux[i-begin]"
   ]
  },
  {
   "cell_type": "markdown",
   "id": "5a3d5745-88a4-4e79-9331-7d1ba2ea2bc2",
   "metadata": {},
   "source": [
    "<br>\n",
    "\n",
    "### Quick sort"
   ]
  },
  {
   "cell_type": "code",
   "execution_count": null,
   "id": "8d0e9c25-22d4-4aca-aca9-028921716e96",
   "metadata": {},
   "outputs": [],
   "source": [
    "def quick_sort(begin, end, arr):\n",
    "    pivot = arr[int((begin+end)/2)]\n",
    "    \n",
    "    i = begin\n",
    "    j = end\n",
    "    \n",
    "    while i < j:\n",
    "        while arr[i] < pivot:\n",
    "            i += 1\n",
    "        \n",
    "        while arr[j] > pivot:\n",
    "            j -= 1\n",
    "        \n",
    "        if i <= j:\n",
    "            aux = arr[i]\n",
    "            arr[i] = arr[j]\n",
    "            arr[j] = aux\n",
    "\n",
    "            i += 1\n",
    "            j -= 1\n",
    "\n",
    "    if j > begin:\n",
    "        quick_sort(begin, j, arr)\n",
    "    \n",
    "    if i < end:\n",
    "        quick_sort(i, end, arr)"
   ]
  },
  {
   "cell_type": "markdown",
   "id": "c5e40292-db95-4855-9d40-146510ad9585",
   "metadata": {},
   "source": [
    "<br>\n",
    "\n",
    "### Heap sort"
   ]
  },
  {
   "cell_type": "code",
   "execution_count": null,
   "id": "2a7b3ff2-8c6d-44d6-b7f3-d68d5b327fc0",
   "metadata": {},
   "outputs": [],
   "source": [
    "def heap_sort(size, arr):\n",
    "    aux = list(arr)\n",
    "    heapq.heapify(aux)\n",
    "\n",
    "    for i in range(0, size):\n",
    "        arr[i] = heapq.heappop(aux)"
   ]
  },
  {
   "cell_type": "markdown",
   "id": "87326179-207b-4f94-995a-f1ca1254123a",
   "metadata": {},
   "source": [
    "<br>\n",
    "\n",
    "## Experimentos"
   ]
  },
  {
   "cell_type": "markdown",
   "id": "f690444a-018a-4d2e-8135-ec95a33dc900",
   "metadata": {},
   "source": [
    "Nosso protocolo de experimentação consiste em rodar determinado algoritmo de ordenação para cada array gerado, tencionando obter o tempo de execução. Para cada algoritmo de ordenação, consideramos duas situações: arrays ordenados e arrays com valores distruibuídos aleatoriamente. Outrossim, para observarmos melhor como o tamanho da entrada afeta o desempenho dos algoritmos, decidimos considerar múltiplos tamanhos de array para cada situação. Sendo assim, adotamos arrays com 10, 100, 1.000 e 10.000 valores inteiros. \n",
    "\n",
    "Para obtermos o tempo de execução de cada experimento, utilizaremos o comando %timeit."
   ]
  },
  {
   "cell_type": "markdown",
   "id": "26f3c630-4434-4954-b9b8-213208ac1e24",
   "metadata": {},
   "source": [
    "### Tamanho = 10"
   ]
  },
  {
   "cell_type": "markdown",
   "id": "fb82951e-2817-48f9-bbd0-bebd834091de",
   "metadata": {},
   "source": [
    "#### **Arrays ordenados:**"
   ]
  },
  {
   "cell_type": "markdown",
   "id": "06ea89cf-925d-466f-b362-62ae79e93cd0",
   "metadata": {},
   "source": [
    "**Bubble sort**"
   ]
  },
  {
   "cell_type": "code",
   "execution_count": null,
   "id": "bd0f6187-5e56-4932-8d96-a287be944a2e",
   "metadata": {},
   "outputs": [],
   "source": [
    "size = 10\n",
    "\n",
    "arr = generate_array(True, upper_bound = size)\n",
    "\n",
    "print('Array original: ' + truncate_array_str(size, arr))\n",
    "\n",
    "exec_time = %timeit -n1 -r1 -q -o bubble_sort(size, arr)\n",
    "\n",
    "print('Array após a ordenação: ' + truncate_array_str(size, arr))\n",
    "\n",
    "print('\\nTempo de execução: ' + str(exec_time))"
   ]
  },
  {
   "cell_type": "markdown",
   "id": "9ee70b2f-5483-4776-94ef-172c5cc792f9",
   "metadata": {},
   "source": [
    "---\n",
    "<br>\n",
    "\n",
    "**Insertion sort**"
   ]
  },
  {
   "cell_type": "code",
   "execution_count": null,
   "id": "25dc4c3c-f1d0-4371-8e7a-ebd711853aa5",
   "metadata": {},
   "outputs": [],
   "source": [
    "size = 10\n",
    "\n",
    "arr = generate_array(True, upper_bound = size)\n",
    "\n",
    "print('Array original: ' + truncate_array_str(size, arr))\n",
    "\n",
    "exec_time = %timeit -n1 -r1 -q -o insertion_sort(size, arr)\n",
    "\n",
    "print('Array após a ordenação: ' + truncate_array_str(size, arr))\n",
    "\n",
    "print('\\nTempo de execução: ' + str(exec_time))"
   ]
  },
  {
   "cell_type": "markdown",
   "id": "5a65f572-4c06-43ab-ba68-7cacae169444",
   "metadata": {},
   "source": [
    "---\n",
    "<br>\n",
    "\n",
    "**Merge sort**"
   ]
  },
  {
   "cell_type": "code",
   "execution_count": null,
   "id": "8bf9508e-8c0d-4da6-9429-8b0b7dde0129",
   "metadata": {},
   "outputs": [],
   "source": [
    "size = 10\n",
    "\n",
    "arr = generate_array(True, upper_bound = size)\n",
    "\n",
    "print('Array original: ' + truncate_array_str(size, arr))\n",
    "\n",
    "exec_time = %timeit -n1 -r1 -q -o merge_sort(0, size-1, arr)\n",
    "\n",
    "print('Array após a ordenação: ' + truncate_array_str(size, arr))\n",
    "\n",
    "print('\\nTempo de execução: ' + str(exec_time))"
   ]
  },
  {
   "cell_type": "markdown",
   "id": "b9448442-35e0-4424-8e1e-6447b094d816",
   "metadata": {},
   "source": [
    "---\n",
    "<br>\n",
    "\n",
    "**Quick sort**"
   ]
  },
  {
   "cell_type": "code",
   "execution_count": null,
   "id": "73d4236a-0afe-40c5-b11c-ccd74c3d968b",
   "metadata": {},
   "outputs": [],
   "source": [
    "size = 10\n",
    "\n",
    "arr = generate_array(True, upper_bound = size)\n",
    "\n",
    "print('Array original: ' + truncate_array_str(size, arr))\n",
    "\n",
    "exec_time = %timeit -n1 -r1 -q -o quick_sort(0, size-1, arr)\n",
    "\n",
    "print('Array após a ordenação: ' + truncate_array_str(size, arr))\n",
    "\n",
    "print('\\nTempo de execução: ' + str(exec_time))"
   ]
  },
  {
   "cell_type": "markdown",
   "id": "3e50c11d-ae65-41ec-be51-3facdc29c9ef",
   "metadata": {},
   "source": [
    "---\n",
    "<br>\n",
    "\n",
    "**Heap sort**"
   ]
  },
  {
   "cell_type": "code",
   "execution_count": null,
   "id": "2967e819-b607-4205-90c8-71dadc601bd9",
   "metadata": {},
   "outputs": [],
   "source": [
    "size = 10\n",
    "\n",
    "arr = generate_array(True, upper_bound = size)\n",
    "\n",
    "print('Array original: ' + truncate_array_str(size, arr))\n",
    "\n",
    "exec_time = %timeit -n1 -r1 -q -o heap_sort(size, arr)\n",
    "\n",
    "print('Array após a ordenação: ' + truncate_array_str(size, arr))\n",
    "\n",
    "print('\\nTempo de execução: ' + str(exec_time))"
   ]
  },
  {
   "cell_type": "markdown",
   "id": "5a64ccc2-ad3c-46ff-9412-fcee778d2004",
   "metadata": {},
   "source": [
    "<br>\n",
    "\n",
    "#### **Arrays não ordenados**"
   ]
  },
  {
   "cell_type": "markdown",
   "id": "81f8a674-e2d5-4bc3-bb2f-c4fc26b96847",
   "metadata": {},
   "source": [
    "**Bubble sort**"
   ]
  },
  {
   "cell_type": "code",
   "execution_count": null,
   "id": "39861e68-7f68-4317-a45a-73784a95af72",
   "metadata": {},
   "outputs": [],
   "source": [
    "size = 10\n",
    "\n",
    "arr = generate_array(False, upper_bound = size)\n",
    "\n",
    "print('Array original: ' + truncate_array_str(size, arr))\n",
    "\n",
    "exec_time = %timeit -n1 -r1 -q -o bubble_sort(size, arr)\n",
    "\n",
    "print('Array após a ordenação: ' + truncate_array_str(size, arr))\n",
    "\n",
    "print('\\nTempo de execução: ' + str(exec_time))"
   ]
  },
  {
   "cell_type": "markdown",
   "id": "f4c763ee-4536-46ca-9d9b-539ec20e8e50",
   "metadata": {},
   "source": [
    "---\n",
    "<br>\n",
    "\n",
    "**Insertion sort**"
   ]
  },
  {
   "cell_type": "code",
   "execution_count": null,
   "id": "8d95056e-93b8-412d-bd48-6ee617277909",
   "metadata": {},
   "outputs": [],
   "source": [
    "size = 10\n",
    "\n",
    "arr = generate_array(False, upper_bound = size)\n",
    "\n",
    "print('Array original: ' + truncate_array_str(size, arr))\n",
    "\n",
    "exec_time = %timeit -n1 -r1 -q -o insertion_sort(size, arr)\n",
    "\n",
    "print('Array após a ordenação: ' + truncate_array_str(size, arr))\n",
    "\n",
    "print('\\nTempo de execução: ' + str(exec_time))"
   ]
  },
  {
   "cell_type": "markdown",
   "id": "21e8b1ac-197a-4b7a-96ae-284d7f9572e0",
   "metadata": {},
   "source": [
    "---\n",
    "<br>\n",
    "\n",
    "**Merge sort**"
   ]
  },
  {
   "cell_type": "code",
   "execution_count": null,
   "id": "4c8350a3-307e-4ba9-b59d-e096bf0c4d46",
   "metadata": {},
   "outputs": [],
   "source": [
    "size = 10\n",
    "\n",
    "arr = generate_array(False, upper_bound = size)\n",
    "\n",
    "print('Array original: ' + truncate_array_str(size, arr))\n",
    "\n",
    "exec_time = %timeit -n1 -r1 -q -o merge_sort(0, size-1, arr)\n",
    "\n",
    "print('Array após a ordenação: ' + truncate_array_str(size, arr))\n",
    "\n",
    "print('\\nTempo de execução: ' + str(exec_time))"
   ]
  },
  {
   "cell_type": "markdown",
   "id": "6f997cab-5753-45c7-811d-d0efd8469a0b",
   "metadata": {},
   "source": [
    "---\n",
    "<br>\n",
    "\n",
    "**Quick sort**"
   ]
  },
  {
   "cell_type": "code",
   "execution_count": null,
   "id": "0e1e7a8c-eb03-4272-8e01-c8542feae550",
   "metadata": {},
   "outputs": [],
   "source": [
    "size = 10\n",
    "\n",
    "arr = generate_array(False, upper_bound = size)\n",
    "\n",
    "print('Array original: ' + truncate_array_str(size, arr))\n",
    "\n",
    "exec_time = %timeit -n1 -r1 -q -o quick_sort(0, size-1, arr)\n",
    "\n",
    "print('Array após a ordenação: ' + truncate_array_str(size, arr))\n",
    "\n",
    "print('\\nTempo de execução: ' + str(exec_time))"
   ]
  },
  {
   "cell_type": "markdown",
   "id": "8d3ea35f-c6bc-4052-abab-37159eece4b8",
   "metadata": {},
   "source": [
    "---\n",
    "<br>\n",
    "\n",
    "**Heap sort**"
   ]
  },
  {
   "cell_type": "code",
   "execution_count": null,
   "id": "e2e2ee9a-cccf-4bd9-a3c4-52e34ab3b6d4",
   "metadata": {},
   "outputs": [],
   "source": [
    "size = 10\n",
    "\n",
    "arr = generate_array(False, upper_bound = size)\n",
    "\n",
    "print('Array original: ' + truncate_array_str(size, arr))\n",
    "\n",
    "exec_time = %timeit -n1 -r1 -q -o heap_sort(size, arr)\n",
    "\n",
    "print('Array após a ordenação: ' + truncate_array_str(size, arr))\n",
    "\n",
    "print('\\nTempo de execução: ' + str(exec_time))"
   ]
  },
  {
   "cell_type": "markdown",
   "id": "a763aefe-9efa-4c5a-912c-dc65cfb74685",
   "metadata": {},
   "source": [
    "<br>\n",
    "\n",
    "### Tamanho = 100"
   ]
  },
  {
   "cell_type": "markdown",
   "id": "9be2c687-c3a0-4702-a739-e7646444e43c",
   "metadata": {},
   "source": [
    "#### **Arrays ordenados**"
   ]
  },
  {
   "cell_type": "markdown",
   "id": "f56db5a2-9847-467c-b0a1-eadfb74c4051",
   "metadata": {},
   "source": [
    "**Bubble sort**"
   ]
  },
  {
   "cell_type": "code",
   "execution_count": null,
   "id": "e5a52049-602e-4f72-aa1f-2cbf14e428f0",
   "metadata": {},
   "outputs": [],
   "source": [
    "size = 100\n",
    "\n",
    "arr = generate_array(True, upper_bound = size)\n",
    "\n",
    "print('Array original: ' + truncate_array_str(size, arr))\n",
    "\n",
    "exec_time = %timeit -n1 -r1 -q -o bubble_sort(size, arr)\n",
    "\n",
    "print('Array após a ordenação: ' + truncate_array_str(size, arr))\n",
    "\n",
    "print('\\nTempo de execução: ' + str(exec_time))"
   ]
  },
  {
   "cell_type": "markdown",
   "id": "23216bd7-046e-4ffd-8b2f-f2c8ece079f8",
   "metadata": {},
   "source": [
    "---\n",
    "<br>\n",
    "\n",
    "**Insertion sort**"
   ]
  },
  {
   "cell_type": "code",
   "execution_count": null,
   "id": "40c2f1b6-5d6b-452e-b355-92f78ea2d32e",
   "metadata": {},
   "outputs": [],
   "source": [
    "size = 100\n",
    "\n",
    "arr = generate_array(True, upper_bound = size)\n",
    "\n",
    "print('Array original: ' + truncate_array_str(size, arr))\n",
    "\n",
    "exec_time = %timeit -n1 -r1 -q -o insertion_sort(size, arr)\n",
    "\n",
    "print('Array após a ordenação: ' + truncate_array_str(size, arr))\n",
    "\n",
    "print('\\nTempo de execução: ' + str(exec_time))"
   ]
  },
  {
   "cell_type": "markdown",
   "id": "bb385e67-5a3e-404c-85a1-013044357eab",
   "metadata": {},
   "source": [
    "---\n",
    "<br>\n",
    "\n",
    "**Merge sort**"
   ]
  },
  {
   "cell_type": "code",
   "execution_count": null,
   "id": "3348b24a-a73b-4479-9603-8a4262cf87cb",
   "metadata": {},
   "outputs": [],
   "source": [
    "size = 100\n",
    "\n",
    "arr = generate_array(True, upper_bound = size)\n",
    "\n",
    "print('Array original: ' + truncate_array_str(size, arr))\n",
    "\n",
    "exec_time = %timeit -n1 -r1 -q -o merge_sort(0, size-1, arr)\n",
    "\n",
    "print('Array após a ordenação: ' + truncate_array_str(size, arr))\n",
    "\n",
    "print('\\nTempo de execução: ' + str(exec_time))"
   ]
  },
  {
   "cell_type": "markdown",
   "id": "52e8ad30-ed4b-4c61-a2f3-9180ce5e18ba",
   "metadata": {},
   "source": [
    "---\n",
    "<br>\n",
    "\n",
    "**Quick sort**"
   ]
  },
  {
   "cell_type": "code",
   "execution_count": null,
   "id": "c25efab2-3371-4857-8591-a753ac3c2526",
   "metadata": {},
   "outputs": [],
   "source": [
    "size = 100\n",
    "\n",
    "arr = generate_array(True, upper_bound = size)\n",
    "\n",
    "print('Array original: ' + truncate_array_str(size, arr))\n",
    "\n",
    "exec_time = %timeit -n1 -r1 -q -o quick_sort(0, size-1, arr)\n",
    "\n",
    "print('Array após a ordenação: ' + truncate_array_str(size, arr))\n",
    "\n",
    "print('\\nTempo de execução: ' + str(exec_time))"
   ]
  },
  {
   "cell_type": "markdown",
   "id": "8538ca0b-57a9-48c0-958c-e3ba8c8c7bc1",
   "metadata": {},
   "source": [
    "---\n",
    "<br>\n",
    "\n",
    "**Heap sort**"
   ]
  },
  {
   "cell_type": "code",
   "execution_count": null,
   "id": "06355220-1dd8-466e-a13f-e88b8497838f",
   "metadata": {},
   "outputs": [],
   "source": [
    "size = 100\n",
    "\n",
    "arr = generate_array(True, upper_bound = size)\n",
    "\n",
    "print('Array original: ' + truncate_array_str(size, arr))\n",
    "\n",
    "exec_time = %timeit -n1 -r1 -q -o heap_sort(size, arr)\n",
    "\n",
    "print('Array após a ordenação: ' + truncate_array_str(size, arr))\n",
    "\n",
    "print('\\nTempo de execução: ' + str(exec_time))"
   ]
  },
  {
   "cell_type": "markdown",
   "id": "08ba838a-6d45-4cd3-aae3-216b38778488",
   "metadata": {},
   "source": [
    "<br>\n",
    "\n",
    "#### **Arrays não ordenados**"
   ]
  },
  {
   "cell_type": "markdown",
   "id": "842461d5-e105-4d25-83c3-1719f7313719",
   "metadata": {},
   "source": [
    "**Bubble sort**"
   ]
  },
  {
   "cell_type": "code",
   "execution_count": null,
   "id": "be961ac4-bf1f-4174-baa3-66f172ffe732",
   "metadata": {},
   "outputs": [],
   "source": [
    "size = 100\n",
    "\n",
    "arr = generate_array(False, upper_bound = size)\n",
    "\n",
    "print('Array original: ' + truncate_array_str(size, arr))\n",
    "\n",
    "exec_time = %timeit -n1 -r1 -q -o bubble_sort(size, arr)\n",
    "\n",
    "print('Array após a ordenação: ' + truncate_array_str(size, arr))\n",
    "\n",
    "print('\\nTempo de execução: ' + str(exec_time))"
   ]
  },
  {
   "cell_type": "markdown",
   "id": "90d07ef1-eb62-4602-9377-34aa9dbe6d45",
   "metadata": {},
   "source": [
    "---\n",
    "<br>\n",
    "\n",
    "**Insertion sort**"
   ]
  },
  {
   "cell_type": "code",
   "execution_count": null,
   "id": "68c40ff0-0462-4da2-adff-e95dbe07ee59",
   "metadata": {},
   "outputs": [],
   "source": [
    "size = 100\n",
    "\n",
    "arr = generate_array(False, upper_bound = size)\n",
    "\n",
    "print('Array original: ' + truncate_array_str(size, arr))\n",
    "\n",
    "exec_time = %timeit -n1 -r1 -q -o insertion_sort(size, arr)\n",
    "\n",
    "print('Array após a ordenação: ' + truncate_array_str(size, arr))\n",
    "\n",
    "print('\\nTempo de execução: ' + str(exec_time))"
   ]
  },
  {
   "cell_type": "markdown",
   "id": "76455cdf-0e5d-47a8-9e41-636b52b73a20",
   "metadata": {},
   "source": [
    "---\n",
    "<br>\n",
    "\n",
    "**Merge sort**"
   ]
  },
  {
   "cell_type": "code",
   "execution_count": null,
   "id": "d4813738-f6b8-48d6-9095-afab3c01a233",
   "metadata": {},
   "outputs": [],
   "source": [
    "size = 100\n",
    "\n",
    "arr = generate_array(False, upper_bound = size)\n",
    "\n",
    "print('Array original: ' + truncate_array_str(size, arr))\n",
    "\n",
    "exec_time = %timeit -n1 -r1 -q -o merge_sort(0, size-1, arr)\n",
    "\n",
    "print('Array após a ordenação: ' + truncate_array_str(size, arr))\n",
    "\n",
    "print('\\nTempo de execução: ' + str(exec_time))"
   ]
  },
  {
   "cell_type": "markdown",
   "id": "109dc42e-5b33-414f-aed5-4be84a3a4617",
   "metadata": {},
   "source": [
    "---\n",
    "<br>\n",
    "\n",
    "**Quick sort**"
   ]
  },
  {
   "cell_type": "code",
   "execution_count": null,
   "id": "86cb2296-73cb-433d-9326-6c69ce633b3a",
   "metadata": {},
   "outputs": [],
   "source": [
    "size = 100\n",
    "\n",
    "arr = generate_array(False, upper_bound = size)\n",
    "\n",
    "print('Array original: ' + truncate_array_str(size, arr))\n",
    "\n",
    "exec_time = %timeit -n1 -r1 -q -o quick_sort(0, size-1, arr)\n",
    "\n",
    "print('Array após a ordenação: ' + truncate_array_str(size, arr))\n",
    "\n",
    "print('\\nTempo de execução: ' + str(exec_time))"
   ]
  },
  {
   "cell_type": "markdown",
   "id": "098589bf-67e3-4bbd-b935-2442ecfcb938",
   "metadata": {},
   "source": [
    "---\n",
    "<br>\n",
    "\n",
    "**Heap sort**"
   ]
  },
  {
   "cell_type": "code",
   "execution_count": null,
   "id": "866d2ba9-dc3d-4d7b-8293-466a28b74450",
   "metadata": {},
   "outputs": [],
   "source": [
    "size = 100\n",
    "\n",
    "arr = generate_array(False, upper_bound = size)\n",
    "\n",
    "print('Array original: ' + truncate_array_str(size, arr))\n",
    "\n",
    "exec_time = %timeit -n1 -r1 -q -o heap_sort(size, arr)\n",
    "\n",
    "print('Array após a ordenação: ' + truncate_array_str(size, arr))\n",
    "\n",
    "print('\\nTempo de execução: ' + str(exec_time))"
   ]
  },
  {
   "cell_type": "markdown",
   "id": "92b330c0-5256-4aa3-8fd8-23deeb8e9b67",
   "metadata": {},
   "source": [
    "<br>\n",
    "\n",
    "### Tamanho = 1.000"
   ]
  },
  {
   "cell_type": "markdown",
   "id": "5313b6fa-5225-4703-bafe-bc372407c665",
   "metadata": {},
   "source": [
    "#### **Arrays ordenados**"
   ]
  },
  {
   "cell_type": "markdown",
   "id": "d3d50354-68b8-4b2c-9ca6-e8a2ed9e3ed4",
   "metadata": {},
   "source": [
    "**Bubble sort**"
   ]
  },
  {
   "cell_type": "code",
   "execution_count": null,
   "id": "a86d69b1-8b82-42bd-8d17-d940eab454cf",
   "metadata": {},
   "outputs": [],
   "source": [
    "size = 1000\n",
    "\n",
    "arr = generate_array(True, upper_bound = size)\n",
    "\n",
    "print('Array original: ' + truncate_array_str(size, arr))\n",
    "\n",
    "exec_time = %timeit -n1 -r1 -q -o bubble_sort(size, arr)\n",
    "\n",
    "print('Array após a ordenação: ' + truncate_array_str(size, arr))\n",
    "\n",
    "print('\\nTempo de execução: ' + str(exec_time))"
   ]
  },
  {
   "cell_type": "markdown",
   "id": "4f0bdbc4-f854-4a6a-81b0-0dadbb9dd95b",
   "metadata": {},
   "source": [
    "---\n",
    "<br>\n",
    "\n",
    "**Insertion sort**"
   ]
  },
  {
   "cell_type": "code",
   "execution_count": null,
   "id": "f8a7f668-7ae4-4f0b-978b-2493c1c31aba",
   "metadata": {},
   "outputs": [],
   "source": [
    "size = 1000\n",
    "\n",
    "arr = generate_array(True, upper_bound = size)\n",
    "\n",
    "print('Array original: ' + truncate_array_str(size, arr))\n",
    "\n",
    "exec_time = %timeit -n1 -r1 -q -o insertion_sort(size, arr)\n",
    "\n",
    "print('Array após a ordenação: ' + truncate_array_str(size, arr))\n",
    "\n",
    "print('\\nTempo de execução: ' + str(exec_time))"
   ]
  },
  {
   "cell_type": "markdown",
   "id": "e63d5b7f-df60-4347-8b26-39d1e2e433b2",
   "metadata": {},
   "source": [
    "---\n",
    "<br>\n",
    "\n",
    "**Merge sort**"
   ]
  },
  {
   "cell_type": "code",
   "execution_count": null,
   "id": "1738a95b-ec84-40be-95f3-0ef1f87e25a4",
   "metadata": {},
   "outputs": [],
   "source": [
    "size = 1000\n",
    "\n",
    "arr = generate_array(True, upper_bound = size)\n",
    "\n",
    "print('Array original: ' + truncate_array_str(size, arr))\n",
    "\n",
    "exec_time = %timeit -n1 -r1 -q -o merge_sort(0, size-1, arr)\n",
    "\n",
    "print('Array após a ordenação: ' + truncate_array_str(size, arr))\n",
    "\n",
    "print('\\nTempo de execução: ' + str(exec_time))"
   ]
  },
  {
   "cell_type": "markdown",
   "id": "8385024e-6c95-4e85-92b2-b9d71f98d97e",
   "metadata": {},
   "source": [
    "---\n",
    "<br>\n",
    "\n",
    "**Quick sort**"
   ]
  },
  {
   "cell_type": "code",
   "execution_count": null,
   "id": "8fab549e-528d-41b2-bb34-73599d1cff8c",
   "metadata": {},
   "outputs": [],
   "source": [
    "size = 1000\n",
    "\n",
    "arr = generate_array(True, upper_bound = size)\n",
    "\n",
    "print('Array original: ' + truncate_array_str(size, arr))\n",
    "\n",
    "exec_time = %timeit -n1 -r1 -q -o quick_sort(0, size-1, arr)\n",
    "\n",
    "print('Array após a ordenação: ' + truncate_array_str(size, arr))\n",
    "\n",
    "print('\\nTempo de execução: ' + str(exec_time))"
   ]
  },
  {
   "cell_type": "markdown",
   "id": "e0024e53-a6dd-4133-951d-5c2abab78187",
   "metadata": {},
   "source": [
    "---\n",
    "<br>\n",
    "\n",
    "**Heap sort**"
   ]
  },
  {
   "cell_type": "code",
   "execution_count": null,
   "id": "3c909201-382f-4732-ac46-9ca0d17f7bb3",
   "metadata": {},
   "outputs": [],
   "source": [
    "size = 1000\n",
    "\n",
    "arr = generate_array(True, upper_bound = size)\n",
    "\n",
    "print('Array original: ' + truncate_array_str(size, arr))\n",
    "\n",
    "exec_time = %timeit -n1 -r1 -q -o heap_sort(size, arr)\n",
    "\n",
    "print('Array após a ordenação: ' + truncate_array_str(size, arr))\n",
    "\n",
    "print('\\nTempo de execução: ' + str(exec_time))"
   ]
  },
  {
   "cell_type": "markdown",
   "id": "0747af6b-4309-4179-847f-4747467d0757",
   "metadata": {},
   "source": [
    "<br>\n",
    "\n",
    "#### **Arrays não ordenados**"
   ]
  },
  {
   "cell_type": "markdown",
   "id": "6ae6ae38-519b-4784-ad25-96f186aec8c6",
   "metadata": {},
   "source": [
    "**Bubble sort**"
   ]
  },
  {
   "cell_type": "code",
   "execution_count": null,
   "id": "18fb51b3-f4ab-404c-9155-91734f5935e2",
   "metadata": {},
   "outputs": [],
   "source": [
    "size = 1000\n",
    "\n",
    "arr = generate_array(False, upper_bound = size)\n",
    "\n",
    "print('Array original: ' + truncate_array_str(size, arr))\n",
    "\n",
    "exec_time = %timeit -n1 -r1 -q -o bubble_sort(size, arr)\n",
    "\n",
    "print('Array após a ordenação: ' + truncate_array_str(size, arr))\n",
    "\n",
    "print('\\nTempo de execução: ' + str(exec_time))"
   ]
  },
  {
   "cell_type": "markdown",
   "id": "f10c5a50-c269-4ee0-a002-3811dd829ef1",
   "metadata": {},
   "source": [
    "---\n",
    "<br>\n",
    "\n",
    "**Insertion sort**"
   ]
  },
  {
   "cell_type": "code",
   "execution_count": null,
   "id": "71db8c10-cc41-46fe-8095-95be0dc5f158",
   "metadata": {},
   "outputs": [],
   "source": [
    "size = 1000\n",
    "\n",
    "arr = generate_array(False, upper_bound = size)\n",
    "\n",
    "print('Array original: ' + truncate_array_str(size, arr))\n",
    "\n",
    "exec_time = %timeit -n1 -r1 -q -o insertion_sort(size, arr)\n",
    "\n",
    "print('Array após a ordenação: ' + truncate_array_str(size, arr))\n",
    "\n",
    "print('\\nTempo de execução: ' + str(exec_time))"
   ]
  },
  {
   "cell_type": "markdown",
   "id": "c1aa1ca1-f2b4-4427-b4f0-42305056a6b5",
   "metadata": {},
   "source": [
    "---\n",
    "<br>\n",
    "\n",
    "**Merge sort**"
   ]
  },
  {
   "cell_type": "code",
   "execution_count": null,
   "id": "65587a0d-4ad1-413f-9c45-0298bf4613c3",
   "metadata": {},
   "outputs": [],
   "source": [
    "size = 1000\n",
    "\n",
    "arr = generate_array(False, upper_bound = size)\n",
    "\n",
    "print('Array original: ' + truncate_array_str(size, arr))\n",
    "\n",
    "exec_time = %timeit -n1 -r1 -q -o merge_sort(0, size-1, arr)\n",
    "\n",
    "print('Array após a ordenação: ' + truncate_array_str(size, arr))\n",
    "\n",
    "print('\\nTempo de execução: ' + str(exec_time))"
   ]
  },
  {
   "cell_type": "markdown",
   "id": "74565b99-dfbc-4e52-a1c6-c1ef43cd70e3",
   "metadata": {},
   "source": [
    "---\n",
    "<br>\n",
    "\n",
    "**Quick sort**"
   ]
  },
  {
   "cell_type": "code",
   "execution_count": null,
   "id": "498c7823-6f9d-4ccf-85ee-f63ca7543ed0",
   "metadata": {},
   "outputs": [],
   "source": [
    "size = 1000\n",
    "\n",
    "arr = generate_array(False, upper_bound = size)\n",
    "\n",
    "print('Array original: ' + truncate_array_str(size, arr))\n",
    "\n",
    "exec_time = %timeit -n1 -r1 -q -o quick_sort(0, size-1, arr)\n",
    "\n",
    "print('Array após a ordenação: ' + truncate_array_str(size, arr))\n",
    "\n",
    "print('\\nTempo de execução: ' + str(exec_time))"
   ]
  },
  {
   "cell_type": "markdown",
   "id": "b03c859c-ffe5-4f6c-8e86-ca14e4ece49a",
   "metadata": {},
   "source": [
    "---\n",
    "<br>\n",
    "\n",
    "**Heap sort**"
   ]
  },
  {
   "cell_type": "code",
   "execution_count": null,
   "id": "ad0d1cf1-fb8d-4e4c-9c21-0b4cad0006d6",
   "metadata": {},
   "outputs": [],
   "source": [
    "size = 1000\n",
    "\n",
    "arr = generate_array(False, upper_bound = size)\n",
    "\n",
    "print('Array original: ' + truncate_array_str(size, arr))\n",
    "\n",
    "exec_time = %timeit -n1 -r1 -q -o heap_sort(size, arr)\n",
    "\n",
    "print('Array após a ordenação: ' + truncate_array_str(size, arr))\n",
    "\n",
    "print('\\nTempo de execução: ' + str(exec_time))"
   ]
  },
  {
   "cell_type": "markdown",
   "id": "520e163c-cca6-4151-8397-ee42415333e2",
   "metadata": {},
   "source": [
    "<br>\n",
    "\n",
    "### Tamanho = 10.000"
   ]
  },
  {
   "cell_type": "markdown",
   "id": "441ef193-f495-465d-9301-c8cd9641007b",
   "metadata": {},
   "source": [
    "#### **Arrays ordenados**"
   ]
  },
  {
   "cell_type": "markdown",
   "id": "72e75e27-75d0-4744-bafd-3df5a7e078c8",
   "metadata": {},
   "source": [
    "**Bubble sort**"
   ]
  },
  {
   "cell_type": "code",
   "execution_count": null,
   "id": "f48a3ff6-cdaa-4b61-96b2-40de68e8a920",
   "metadata": {},
   "outputs": [],
   "source": [
    "size = 10000\n",
    "\n",
    "arr = generate_array(True, upper_bound = size)\n",
    "\n",
    "print('Array original: ' + truncate_array_str(size, arr))\n",
    "\n",
    "exec_time = %timeit -n1 -r1 -q -o bubble_sort(size, arr)\n",
    "\n",
    "print('Array após a ordenação: ' + truncate_array_str(size, arr))\n",
    "\n",
    "print('\\nTempo de execução: ' + str(exec_time))"
   ]
  },
  {
   "cell_type": "markdown",
   "id": "dbbec236-76c9-4d82-8b26-12211f163b3c",
   "metadata": {},
   "source": [
    "---\n",
    "<br>\n",
    "\n",
    "**Insertion sort**"
   ]
  },
  {
   "cell_type": "code",
   "execution_count": null,
   "id": "89c38b84-eb6d-4e68-a6bc-80eb0c9ee50f",
   "metadata": {},
   "outputs": [],
   "source": [
    "size = 10000\n",
    "\n",
    "arr = generate_array(True, upper_bound = size)\n",
    "\n",
    "print('Array original: ' + truncate_array_str(size, arr))\n",
    "\n",
    "exec_time = %timeit -n1 -r1 -q -o insertion_sort(size, arr)\n",
    "\n",
    "print('Array após a ordenação: ' + truncate_array_str(size, arr))\n",
    "\n",
    "print('\\nTempo de execução: ' + str(exec_time))"
   ]
  },
  {
   "cell_type": "markdown",
   "id": "1f7150e9-5681-4a7d-9cfa-1270f6389cb6",
   "metadata": {},
   "source": [
    "---\n",
    "<br>\n",
    "\n",
    "**Merge sort**"
   ]
  },
  {
   "cell_type": "code",
   "execution_count": null,
   "id": "fbe819e4-d435-4e95-94a9-72d1bf42b9ed",
   "metadata": {},
   "outputs": [],
   "source": [
    "size = 10000\n",
    "\n",
    "arr = generate_array(True, upper_bound = size)\n",
    "\n",
    "print('Array original: ' + truncate_array_str(size, arr))\n",
    "\n",
    "exec_time = %timeit -n1 -r1 -q -o merge_sort(0, size-1, arr)\n",
    "\n",
    "print('Array após a ordenação: ' + truncate_array_str(size, arr))\n",
    "\n",
    "print('\\nTempo de execução: ' + str(exec_time))"
   ]
  },
  {
   "cell_type": "markdown",
   "id": "e04a85b9-a10b-4117-9198-6d2cc094dc44",
   "metadata": {},
   "source": [
    "---\n",
    "<br>\n",
    "\n",
    "**Quick sort**"
   ]
  },
  {
   "cell_type": "code",
   "execution_count": null,
   "id": "c09b618a-8f4f-4855-9526-63cb8bff3506",
   "metadata": {},
   "outputs": [],
   "source": [
    "size = 10000\n",
    "\n",
    "arr = generate_array(True, upper_bound = size)\n",
    "\n",
    "print('Array original: ' + truncate_array_str(size, arr))\n",
    "\n",
    "exec_time = %timeit -n1 -r1 -q -o quick_sort(0, size-1, arr)\n",
    "\n",
    "print('Array após a ordenação: ' + truncate_array_str(size, arr))\n",
    "\n",
    "print('\\nTempo de execução: ' + str(exec_time))"
   ]
  },
  {
   "cell_type": "markdown",
   "id": "9982d392-e3dd-453e-a752-1a550583f7d3",
   "metadata": {},
   "source": [
    "---\n",
    "<br>\n",
    "\n",
    "**Heap sort**"
   ]
  },
  {
   "cell_type": "code",
   "execution_count": null,
   "id": "c29f73ac-3109-46c1-aa77-0c99ba58a661",
   "metadata": {},
   "outputs": [],
   "source": [
    "size = 10000\n",
    "\n",
    "arr = generate_array(True, upper_bound = size)\n",
    "\n",
    "print('Array original: ' + truncate_array_str(size, arr))\n",
    "\n",
    "exec_time = %timeit -n1 -r1 -q -o heap_sort(size, arr)\n",
    "\n",
    "print('Array após a ordenação: ' + truncate_array_str(size, arr))\n",
    "\n",
    "print('\\nTempo de execução: ' + str(exec_time))"
   ]
  },
  {
   "cell_type": "markdown",
   "id": "d851a425-bf4e-439a-aa3d-8a32b2efdcdf",
   "metadata": {},
   "source": [
    "<br>\n",
    "\n",
    "#### **Arrays não ordenados**"
   ]
  },
  {
   "cell_type": "markdown",
   "id": "7517b743-b8df-4030-a39d-705911993d42",
   "metadata": {},
   "source": [
    "**Bubble sort**"
   ]
  },
  {
   "cell_type": "code",
   "execution_count": null,
   "id": "9a6dd814-0a8e-40b6-a4ea-ee73a3bdc46d",
   "metadata": {},
   "outputs": [],
   "source": [
    "size = 10000\n",
    "\n",
    "arr = generate_array(False, upper_bound = size)\n",
    "\n",
    "print('Array original: ' + truncate_array_str(size, arr))\n",
    "\n",
    "exec_time = %timeit -n1 -r1 -q -o bubble_sort(size, arr)\n",
    "\n",
    "print('Array após a ordenação: ' + truncate_array_str(size, arr))\n",
    "\n",
    "print('\\nTempo de execução: ' + str(exec_time))"
   ]
  },
  {
   "cell_type": "markdown",
   "id": "2eea56d3-cae6-4409-afef-7a2a0bd5c57e",
   "metadata": {},
   "source": [
    "---\n",
    "<br>\n",
    "\n",
    "**Insertion sort**"
   ]
  },
  {
   "cell_type": "code",
   "execution_count": null,
   "id": "4cd0abcd-89a1-461b-9572-70145e090a16",
   "metadata": {},
   "outputs": [],
   "source": [
    "size = 10000\n",
    "\n",
    "arr = generate_array(False, upper_bound = size)\n",
    "\n",
    "print('Array original: ' + truncate_array_str(size, arr))\n",
    "\n",
    "exec_time = %timeit -n1 -r1 -q -o insertion_sort(size, arr)\n",
    "\n",
    "print('Array após a ordenação: ' + truncate_array_str(size, arr))\n",
    "\n",
    "print('\\nTempo de execução: ' + str(exec_time))"
   ]
  },
  {
   "cell_type": "markdown",
   "id": "9623402e-b1a6-44a4-abd0-b7b24a9e961c",
   "metadata": {},
   "source": [
    "---\n",
    "<br>\n",
    "\n",
    "**Merge sort**"
   ]
  },
  {
   "cell_type": "code",
   "execution_count": null,
   "id": "9d0b7016-1938-4dbd-b179-c25d48ddf11e",
   "metadata": {},
   "outputs": [],
   "source": [
    "size = 10000\n",
    "\n",
    "arr = generate_array(False, upper_bound = size)\n",
    "\n",
    "print('Array original: ' + truncate_array_str(size, arr))\n",
    "\n",
    "exec_time = %timeit -n1 -r1 -q -o merge_sort(0, size-1, arr)\n",
    "\n",
    "print('Array após a ordenação: ' + truncate_array_str(size, arr))\n",
    "\n",
    "print('\\nTempo de execução: ' + str(exec_time))"
   ]
  },
  {
   "cell_type": "markdown",
   "id": "bc931d3d-21ce-415c-937e-a505462b3789",
   "metadata": {},
   "source": [
    "---\n",
    "<br>\n",
    "\n",
    "**Quick sort**"
   ]
  },
  {
   "cell_type": "code",
   "execution_count": null,
   "id": "80306ea0-69fb-4630-81d5-00475d4e5144",
   "metadata": {},
   "outputs": [],
   "source": [
    "size = 10000\n",
    "\n",
    "arr = generate_array(False, upper_bound = size)\n",
    "\n",
    "print('Array original: ' + truncate_array_str(size, arr))\n",
    "\n",
    "exec_time = %timeit -n1 -r1 -q -o quick_sort(0, size-1, arr)\n",
    "\n",
    "print('Array após a ordenação: ' + truncate_array_str(size, arr))\n",
    "\n",
    "print('\\nTempo de execução: ' + str(exec_time))"
   ]
  },
  {
   "cell_type": "markdown",
   "id": "78ac2022-7fc1-4541-af63-45c9219cc048",
   "metadata": {},
   "source": [
    "---\n",
    "<br>\n",
    "\n",
    "**Heap sort**"
   ]
  },
  {
   "cell_type": "code",
   "execution_count": null,
   "id": "5e5d5bb1-2e99-4e81-8d2c-dd1fac2ea9f5",
   "metadata": {},
   "outputs": [],
   "source": [
    "size = 10000\n",
    "\n",
    "arr = generate_array(False, upper_bound = size)\n",
    "\n",
    "print('Array original: ' + truncate_array_str(size, arr))\n",
    "\n",
    "exec_time = %timeit -n1 -r1 -q -o heap_sort(size, arr)\n",
    "\n",
    "print('Array após a ordenação: ' + truncate_array_str(size, arr))\n",
    "\n",
    "print('\\nTempo de execução: ' + str(exec_time))"
   ]
  },
  {
   "cell_type": "markdown",
   "id": "cb82b545-3cb8-4d51-a104-fd1da31d63f0",
   "metadata": {},
   "source": [
    "<br>\n",
    "\n",
    "## Resultados"
   ]
  },
  {
   "cell_type": "markdown",
   "id": "4d6463ae-091c-4b20-84d5-bd2a68f41cfe",
   "metadata": {},
   "source": [
    "Em relação ao Bubble e ao Insertion Sort, algoritmos de ordenação iterativos, podemos inferir que o desempenho é bom quando se trata de arrays já ordenados ou até mesmo de não ordenados com até 100 valores. Esses algoritmos apresentam os melhores tempos de execução nas situações descritas. No entanto, para arrays não ordenados de tamanhos superiores a 100, os algoritmos começam a perder o lugar para algoritmos mais robustos.\n",
    "\n",
    "Os algoritmos Merge Sort e Quick Sort, que apresentam uma abordagem recursiva, também possuem suas peculiaridades. O Merge apresentou bons resultados para arrays ordenados e de tamanhos menores ou iguais a 100, e para arrays não ordenados com tamanhos maiores que 100. Por outro lado, o Quick Sort não apresentou resultados satisfatórios para arrays já ordenados e de tamanhos pequenos, mas destacou-se com o aumento do tamanho em arrays não ordenados.\n",
    "\n",
    "O destaque entre os algoritmos de ordenação é o Heap Sort. Este algoritmo conseguiu resultados satisfatórios para arrays ordenados e não ordenados, e de todos os tamanhos utilizados nos experimentos. Mesmo que não tenha resultado no melhor tempo de execução em todas as configurações, o algoritmo é sem dúvidas o mais versátil."
   ]
  }
 ],
 "metadata": {
  "kernelspec": {
   "display_name": "Python 3",
   "language": "python",
   "name": "python3"
  },
  "language_info": {
   "codemirror_mode": {
    "name": "ipython",
    "version": 3
   },
   "file_extension": ".py",
   "mimetype": "text/x-python",
   "name": "python",
   "nbconvert_exporter": "python",
   "pygments_lexer": "ipython3",
   "version": "3.8.5"
  }
 },
 "nbformat": 4,
 "nbformat_minor": 5
}
